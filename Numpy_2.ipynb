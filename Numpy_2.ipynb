{
 "cells": [
  {
   "cell_type": "code",
   "execution_count": 1,
   "id": "78963d13",
   "metadata": {},
   "outputs": [
    {
     "name": "stdout",
     "output_type": "stream",
     "text": [
      "[10 20 30]\n"
     ]
    }
   ],
   "source": [
    "#slicing in numpy\n",
    "import numpy as np\n",
    "\n",
    "i = np.array([10,20,30,40,50,60,70,80])\n",
    "print(i[0:3])"
   ]
  },
  {
   "cell_type": "code",
   "execution_count": 2,
   "id": "b5774fd5",
   "metadata": {},
   "outputs": [
    {
     "name": "stdout",
     "output_type": "stream",
     "text": [
      "[40 50 60]\n"
     ]
    }
   ],
   "source": [
    "#slicing in numpy\n",
    "import numpy as np\n",
    "\n",
    "i = np.array([10,20,30,40,50,60,70,80])\n",
    "print(i[3:6])"
   ]
  },
  {
   "cell_type": "code",
   "execution_count": 3,
   "id": "6a21e7dd",
   "metadata": {},
   "outputs": [
    {
     "name": "stdout",
     "output_type": "stream",
     "text": [
      "[40 50 60 70 80]\n"
     ]
    }
   ],
   "source": [
    "#slicing in numpy with no end index\n",
    "import numpy as np\n",
    "\n",
    "i = np.array([10,20,30,40,50,60,70,80])\n",
    "print(i[3:])"
   ]
  },
  {
   "cell_type": "code",
   "execution_count": 5,
   "id": "d654aaee",
   "metadata": {},
   "outputs": [
    {
     "name": "stdout",
     "output_type": "stream",
     "text": [
      "[10 20 30 40 50]\n"
     ]
    }
   ],
   "source": [
    "#slicing in numpy with no start index\n",
    "import numpy as np\n",
    "\n",
    "i = np.array([10,20,30,40,50,60,70,80])\n",
    "print(i[:5])"
   ]
  },
  {
   "cell_type": "code",
   "execution_count": 6,
   "id": "8fdb8863",
   "metadata": {},
   "outputs": [
    {
     "name": "stdout",
     "output_type": "stream",
     "text": [
      "[40 50 60 70]\n"
     ]
    }
   ],
   "source": [
    "# -ve slicing in numpy \n",
    "import numpy as np\n",
    "\n",
    "i = np.array([10,20,30,40,50,60,70,80])\n",
    "print(i[-5:-1])"
   ]
  },
  {
   "cell_type": "code",
   "execution_count": 8,
   "id": "0d3259c0",
   "metadata": {},
   "outputs": [
    {
     "name": "stdout",
     "output_type": "stream",
     "text": [
      "[20 30 40 50 60 70]\n"
     ]
    }
   ],
   "source": [
    "# -ve and +ve slicing in numpy \n",
    "import numpy as np\n",
    "\n",
    "i = np.array([10,20,30,40,50,60,70,80])\n",
    "print(i[1:-1])"
   ]
  },
  {
   "cell_type": "code",
   "execution_count": 9,
   "id": "6c456ea0",
   "metadata": {},
   "outputs": [
    {
     "name": "stdout",
     "output_type": "stream",
     "text": [
      "[10 30 50]\n"
     ]
    }
   ],
   "source": [
    "#slicing in numpy with step\n",
    "import numpy as np\n",
    "\n",
    "i = np.array([10,20,30,40,50,60,70,80])\n",
    "print(i[0:6:2])"
   ]
  },
  {
   "cell_type": "code",
   "execution_count": 10,
   "id": "988f876e",
   "metadata": {},
   "outputs": [
    {
     "name": "stdout",
     "output_type": "stream",
     "text": [
      "[10 20 30 40 50 60 70 80]\n"
     ]
    }
   ],
   "source": [
    "#slicing in numpy with step\n",
    "import numpy as np\n",
    "\n",
    "i = np.array([10,20,30,40,50,60,70,80])\n",
    "print(i[::])"
   ]
  },
  {
   "cell_type": "code",
   "execution_count": 11,
   "id": "ea26cd2a",
   "metadata": {},
   "outputs": [
    {
     "name": "stdout",
     "output_type": "stream",
     "text": [
      "[10 30 50 70]\n"
     ]
    }
   ],
   "source": [
    "#slicing in numpy with step\n",
    "import numpy as np\n",
    "\n",
    "i = np.array([10,20,30,40,50,60,70,80])\n",
    "print(i[::2])"
   ]
  },
  {
   "cell_type": "code",
   "execution_count": 12,
   "id": "0f3727f1",
   "metadata": {},
   "outputs": [
    {
     "name": "stdout",
     "output_type": "stream",
     "text": [
      "[60 70 80]\n"
     ]
    }
   ],
   "source": [
    "# slicing with 2D arrays\n",
    "import numpy as np\n",
    "\n",
    "i = np.array([\n",
    "    [10,20,30,40,50],\n",
    "    [60,70,80,90,100]\n",
    "])\n",
    "print(i[1,0:3])"
   ]
  },
  {
   "cell_type": "code",
   "execution_count": 13,
   "id": "da7a092a",
   "metadata": {},
   "outputs": [
    {
     "name": "stdout",
     "output_type": "stream",
     "text": [
      "[20 30 40]\n"
     ]
    }
   ],
   "source": [
    "# slicing with 2D arrays\n",
    "import numpy as np\n",
    "\n",
    "i = np.array([\n",
    "    [10,20,30,40,50],\n",
    "    [60,70,80,90,100]\n",
    "])\n",
    "print(i[0,1:4])"
   ]
  },
  {
   "cell_type": "code",
   "execution_count": 14,
   "id": "2444340d",
   "metadata": {},
   "outputs": [
    {
     "name": "stdout",
     "output_type": "stream",
     "text": [
      "[22 33 44]\n"
     ]
    }
   ],
   "source": [
    "# slicing with 2D arrays\n",
    "import numpy as np\n",
    "\n",
    "i = np.array([\n",
    "    [10,20,30,40,50],\n",
    "    [60,70,80,90,100],\n",
    "    [11,22,33,44,55]\n",
    "])\n",
    "print(i[2,1:4])"
   ]
  },
  {
   "cell_type": "code",
   "execution_count": 15,
   "id": "dd2cab01",
   "metadata": {},
   "outputs": [
    {
     "name": "stdout",
     "output_type": "stream",
     "text": [
      "[20 70]\n"
     ]
    }
   ],
   "source": [
    "# slicing with 2D arrays\n",
    "import numpy as np\n",
    "\n",
    "i = np.array([\n",
    "    [10,20,30,40,50],\n",
    "    [60,70,80,90,100],\n",
    "    [11,22,33,44,55]\n",
    "])\n",
    "print(i[0:2,1])"
   ]
  },
  {
   "cell_type": "code",
   "execution_count": 17,
   "id": "462c3513",
   "metadata": {},
   "outputs": [
    {
     "name": "stdout",
     "output_type": "stream",
     "text": [
      "[ 50 100  55]\n"
     ]
    }
   ],
   "source": [
    "# slicing with 2D arrays\n",
    "import numpy as np\n",
    "\n",
    "i = np.array([\n",
    "    [10,20,30,40,50],\n",
    "    [60,70,80,90,100],\n",
    "    [11,22,33,44,55],\n",
    "    [1,2,3,4,5]\n",
    "])\n",
    "print(i[0:3,4])"
   ]
  },
  {
   "cell_type": "code",
   "execution_count": 18,
   "id": "507c2df9",
   "metadata": {},
   "outputs": [
    {
     "name": "stdout",
     "output_type": "stream",
     "text": [
      "[[10 20 30 40]\n",
      " [60 70 80 90]\n",
      " [11 22 33 44]]\n"
     ]
    }
   ],
   "source": [
    "# slicing with 2D arrays\n",
    "import numpy as np\n",
    "\n",
    "i = np.array([\n",
    "    [10,20,30,40,50],\n",
    "    [60,70,80,90,100],\n",
    "    [11,22,33,44,55],\n",
    "    [1,2,3,4,5]\n",
    "])\n",
    "print(i[0:3,0:4])"
   ]
  },
  {
   "cell_type": "code",
   "execution_count": 20,
   "id": "544ab646",
   "metadata": {},
   "outputs": [
    {
     "name": "stdout",
     "output_type": "stream",
     "text": [
      "[[30 40]\n",
      " [80 90]\n",
      " [33 44]]\n"
     ]
    }
   ],
   "source": [
    "# slicing with 2D arrays -ve indexing\n",
    "import numpy as np\n",
    "\n",
    "i = np.array([\n",
    "    [10,20,30,40,50],\n",
    "    [60,70,80,90,100],\n",
    "    [11,22,33,44,55],\n",
    "    [1,2,3,4,5]\n",
    "])\n",
    "print(i[0:3,-3:-1])"
   ]
  },
  {
   "cell_type": "code",
   "execution_count": 21,
   "id": "a54d742f",
   "metadata": {},
   "outputs": [
    {
     "name": "stdout",
     "output_type": "stream",
     "text": [
      "int32\n"
     ]
    }
   ],
   "source": [
    "# data type in numpy\n",
    "import numpy as np\n",
    "\n",
    "np.array([10,20,30,40,50])\n",
    "print(i.dtype)"
   ]
  },
  {
   "cell_type": "code",
   "execution_count": 27,
   "id": "ef58412a",
   "metadata": {},
   "outputs": [
    {
     "name": "stdout",
     "output_type": "stream",
     "text": [
      "[10 20 30]\n",
      "int32\n",
      "[10.1 20.2 30.3]\n"
     ]
    }
   ],
   "source": [
    "# data type in numpy\n",
    "import numpy as np\n",
    "\n",
    "i = np.array([10.10,20.20,30.30])\n",
    "i1 = i.astype('i')\n",
    "print(i1)\n",
    "print(i1.dtype)\n",
    "print(i)"
   ]
  },
  {
   "cell_type": "code",
   "execution_count": 28,
   "id": "c4617700",
   "metadata": {},
   "outputs": [
    {
     "name": "stdout",
     "output_type": "stream",
     "text": [
      "[10. 20. 30.]\n",
      "float32\n"
     ]
    }
   ],
   "source": [
    "# data type in numpy\n",
    "import numpy as np\n",
    "\n",
    "i = np.array([10,20,30])\n",
    "i1 = i.astype('f')\n",
    "print(i1)\n",
    "print(i1.dtype)\n"
   ]
  },
  {
   "cell_type": "code",
   "execution_count": 29,
   "id": "9a0b8c3e",
   "metadata": {},
   "outputs": [
    {
     "name": "stdout",
     "output_type": "stream",
     "text": [
      "[10 20 30]\n",
      "int32\n"
     ]
    }
   ],
   "source": [
    "# data type in numpy\n",
    "import numpy as np\n",
    "\n",
    "i = np.array([10.10,20.20,30.30])\n",
    "i1 = i.astype(int)\n",
    "print(i1)\n",
    "print(i1.dtype)\n"
   ]
  },
  {
   "cell_type": "code",
   "execution_count": 30,
   "id": "df762c36",
   "metadata": {},
   "outputs": [
    {
     "name": "stdout",
     "output_type": "stream",
     "text": [
      "[ True False  True  True  True False  True]\n",
      "bool\n"
     ]
    }
   ],
   "source": [
    "# data type in numpy\n",
    "import numpy as np\n",
    "\n",
    "i = np.array([10.10,0,20,35.2,30,0,3])\n",
    "i1 = i.astype(bool)\n",
    "print(i1)\n",
    "print(i1.dtype)"
   ]
  },
  {
   "cell_type": "code",
   "execution_count": null,
   "id": "f6b9d7e6",
   "metadata": {},
   "outputs": [],
   "source": []
  }
 ],
 "metadata": {
  "kernelspec": {
   "display_name": "Python 3 (ipykernel)",
   "language": "python",
   "name": "python3"
  },
  "language_info": {
   "codemirror_mode": {
    "name": "ipython",
    "version": 3
   },
   "file_extension": ".py",
   "mimetype": "text/x-python",
   "name": "python",
   "nbconvert_exporter": "python",
   "pygments_lexer": "ipython3",
   "version": "3.9.7"
  }
 },
 "nbformat": 4,
 "nbformat_minor": 5
}
