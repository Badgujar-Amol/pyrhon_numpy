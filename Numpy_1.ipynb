{
 "cells": [
  {
   "cell_type": "code",
   "execution_count": 9,
   "id": "37ee38af",
   "metadata": {},
   "outputs": [
    {
     "name": "stdout",
     "output_type": "stream",
     "text": [
      "[10 20 30 40]\n"
     ]
    }
   ],
   "source": [
    "# Simple Numpy program\n",
    "import numpy\n",
    "\n",
    "i = numpy.array([10,20,30,40])\n",
    "print(i)"
   ]
  },
  {
   "cell_type": "code",
   "execution_count": 10,
   "id": "51667864",
   "metadata": {},
   "outputs": [
    {
     "name": "stdout",
     "output_type": "stream",
     "text": [
      "[10 20 30 40]\n"
     ]
    }
   ],
   "source": [
    "# Simple Numpy program\n",
    "import numpy as np\n",
    "\n",
    "i = np.array([10,20,30,40])\n",
    "print(i)"
   ]
  },
  {
   "cell_type": "code",
   "execution_count": 5,
   "id": "f785413c",
   "metadata": {},
   "outputs": [
    {
     "name": "stdout",
     "output_type": "stream",
     "text": [
      "1.20.3\n"
     ]
    }
   ],
   "source": [
    "# Check Numpy version\n",
    "import numpy as np\n",
    "\n",
    "print(np.__version__)"
   ]
  },
  {
   "cell_type": "code",
   "execution_count": 7,
   "id": "6ddba4bf",
   "metadata": {},
   "outputs": [
    {
     "name": "stdout",
     "output_type": "stream",
     "text": [
      "[10 20 30 40]\n",
      "<class 'numpy.ndarray'>\n"
     ]
    }
   ],
   "source": [
    "# type() function in Numpy\n",
    "import numpy as np\n",
    "\n",
    "i = np.array([10,20,30,40])\n",
    "print(i)\n",
    "print(type(i))\n"
   ]
  },
  {
   "cell_type": "code",
   "execution_count": 8,
   "id": "de2b6724",
   "metadata": {},
   "outputs": [
    {
     "name": "stdout",
     "output_type": "stream",
     "text": [
      "[10 20 30 40]\n"
     ]
    }
   ],
   "source": [
    "# Numpy Example with Tuple\n",
    "import numpy as np\n",
    "\n",
    "i = np.array((10,20,30,40))\n",
    "print(i)"
   ]
  },
  {
   "cell_type": "code",
   "execution_count": 11,
   "id": "1fc4dacb",
   "metadata": {},
   "outputs": [
    {
     "name": "stdout",
     "output_type": "stream",
     "text": [
      "10\n"
     ]
    }
   ],
   "source": [
    "# 0-D Dimention array in Numpy\n",
    "import numpy as np\n",
    "\n",
    "i = np.array(10)\n",
    "print(i)"
   ]
  },
  {
   "cell_type": "code",
   "execution_count": 12,
   "id": "a668e5e5",
   "metadata": {},
   "outputs": [
    {
     "name": "stdout",
     "output_type": "stream",
     "text": [
      "[10 20 30 40 50 60]\n"
     ]
    }
   ],
   "source": [
    "# 1-D Dimention array in Numpy\n",
    "import numpy as np\n",
    "\n",
    "i = np.array([10,20,30,40,50,60])\n",
    "print(i)"
   ]
  },
  {
   "cell_type": "code",
   "execution_count": 15,
   "id": "7f14f0a8",
   "metadata": {},
   "outputs": [
    {
     "name": "stdout",
     "output_type": "stream",
     "text": [
      "[[10 20 30 40]\n",
      " [50 60 70 80]]\n"
     ]
    }
   ],
   "source": [
    "# 2-D Dimention array in Numpy\n",
    "import numpy as np\n",
    "\n",
    "i = np.array([[10,20,30,40],\n",
    "              [50,60,70,80]])\n",
    "print(i)"
   ]
  },
  {
   "cell_type": "code",
   "execution_count": 16,
   "id": "8cf3f0a1",
   "metadata": {},
   "outputs": [
    {
     "name": "stdout",
     "output_type": "stream",
     "text": [
      "[[[10 20 30 40]\n",
      "  [50 60 70 80]]\n",
      "\n",
      " [[50 60 70 80]\n",
      "  [10 20 30 40]]]\n"
     ]
    }
   ],
   "source": [
    "# 3-D Dimention array in Numpy\n",
    "import numpy as np\n",
    "\n",
    "i = np.array([\n",
    "    [[10,20,30,40],[50,60,70,80]],\n",
    "    [[50,60,70,80],[10,20,30,40]]\n",
    "])\n",
    "print(i)"
   ]
  },
  {
   "cell_type": "code",
   "execution_count": 17,
   "id": "3165989d",
   "metadata": {},
   "outputs": [
    {
     "name": "stdout",
     "output_type": "stream",
     "text": [
      "0\n",
      "1\n",
      "2\n",
      "3\n"
     ]
    }
   ],
   "source": [
    "# Check the type of Dimention\n",
    "import numpy as np\n",
    "\n",
    "i = np.array(10)\n",
    "j = np.array([10,20,30,40,50,60])\n",
    "k = np.array([[10,20,30,40],\n",
    "              [50,60,70,80]])\n",
    "l = np.array([\n",
    "    [[10,20,30,40],[50,60,70,80]],\n",
    "    [[50,60,70,80],[10,20,30,40]]\n",
    "])\n",
    "\n",
    "print(i.ndim)\n",
    "print(j.ndim)\n",
    "print(k.ndim)\n",
    "print(l.ndim)"
   ]
  },
  {
   "cell_type": "code",
   "execution_count": 19,
   "id": "d313cfa2",
   "metadata": {},
   "outputs": [
    {
     "name": "stdout",
     "output_type": "stream",
     "text": [
      "[[[[[10 20 30 40 50 60]]]]]\n",
      "5\n"
     ]
    }
   ],
   "source": [
    "# ndmin argument in Numpy.\n",
    "import numpy as np\n",
    "\n",
    "i = np.array([10,20,30,40,50,60], ndmin=5)\n",
    "print(i)\n",
    "print(i.ndim)"
   ]
  },
  {
   "cell_type": "code",
   "execution_count": 20,
   "id": "d47fa448",
   "metadata": {},
   "outputs": [
    {
     "name": "stdout",
     "output_type": "stream",
     "text": [
      "10\n"
     ]
    }
   ],
   "source": [
    "# Access elements in Numpy\n",
    "import numpy as np\n",
    "\n",
    "i = np.array([10,20,30,40,50,60])\n",
    "print(i[0])"
   ]
  },
  {
   "cell_type": "code",
   "execution_count": 22,
   "id": "d02d6048",
   "metadata": {},
   "outputs": [
    {
     "name": "stdout",
     "output_type": "stream",
     "text": [
      "60\n",
      "20\n"
     ]
    }
   ],
   "source": [
    "# Access elements in Numpy\n",
    "import numpy as np\n",
    "\n",
    "i = np.array([[10,20,30,40],\n",
    "              [50,60,70,80]])\n",
    "print(i[1,1])\n",
    "print(i[0,1])"
   ]
  },
  {
   "cell_type": "code",
   "execution_count": 26,
   "id": "6e75bdcf",
   "metadata": {},
   "outputs": [
    {
     "name": "stdout",
     "output_type": "stream",
     "text": [
      "70\n",
      "30\n",
      "40\n",
      "80\n"
     ]
    }
   ],
   "source": [
    "# Access elements in Numpy\n",
    "import numpy as np\n",
    "\n",
    "i = np.array([\n",
    "    [[10,20,30,40],[50,60,70,80]], # 0 - 0 1 - 0 1 2 \n",
    "    [[50,60,70,80],[10,20,30,40]]  # 0 - 0 1 - 0 1 2 \n",
    "])\n",
    "print(i[0,1,2])\n",
    "print(i[1,1,2])\n",
    "print(i[1,1,-1])\n",
    "print(i[1,-2,-1])"
   ]
  },
  {
   "cell_type": "code",
   "execution_count": 27,
   "id": "08afb466",
   "metadata": {},
   "outputs": [
    {
     "name": "stdout",
     "output_type": "stream",
     "text": [
      "60\n"
     ]
    }
   ],
   "source": [
    "# Access elements in Numpy\n",
    "import numpy as np\n",
    "\n",
    "i = np.array([10,20,30,40,50,60])\n",
    "print(i[-1])"
   ]
  },
  {
   "cell_type": "code",
   "execution_count": null,
   "id": "58712fd6",
   "metadata": {},
   "outputs": [],
   "source": []
  }
 ],
 "metadata": {
  "kernelspec": {
   "display_name": "Python 3 (ipykernel)",
   "language": "python",
   "name": "python3"
  },
  "language_info": {
   "codemirror_mode": {
    "name": "ipython",
    "version": 3
   },
   "file_extension": ".py",
   "mimetype": "text/x-python",
   "name": "python",
   "nbconvert_exporter": "python",
   "pygments_lexer": "ipython3",
   "version": "3.9.7"
  }
 },
 "nbformat": 4,
 "nbformat_minor": 5
}
